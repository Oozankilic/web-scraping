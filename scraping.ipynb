{
  "nbformat": 4,
  "nbformat_minor": 0,
  "metadata": {
    "colab": {
      "name": "scrapping.ipynb",
      "provenance": [],
      "mount_file_id": "1QdQBF7qhd943Chg5B1buJUUK53u6vYUz",
      "authorship_tag": "ABX9TyOEBEm8ansr1sxfk3ZxZiLU",
      "include_colab_link": true
    },
    "kernelspec": {
      "display_name": "Python 3",
      "name": "python3"
    },
    "language_info": {
      "name": "python"
    }
  },
  "cells": [
    {
      "cell_type": "markdown",
      "metadata": {
        "id": "view-in-github",
        "colab_type": "text"
      },
      "source": [
        "<a href=\"https://colab.research.google.com/github/Oozankilic/web-scraping/blob/main/scraping.ipynb\" target=\"_parent\"><img src=\"https://colab.research.google.com/assets/colab-badge.svg\" alt=\"Open In Colab\"/></a>"
      ]
    },
    {
      "cell_type": "code",
      "metadata": {
        "id": "txm1Er0ez6BA"
      },
      "source": [
        "pip install gspread"
      ],
      "execution_count": null,
      "outputs": []
    },
    {
      "cell_type": "code",
      "metadata": {
        "id": "ervC0plL1OpZ"
      },
      "source": [
        "from google.colab import drive\n",
        "\n",
        "drive.mount('/content/drive')"
      ],
      "execution_count": null,
      "outputs": []
    },
    {
      "cell_type": "code",
      "metadata": {
        "id": "fLIycDkQ2PpI"
      },
      "source": [
        "import pandas as pd\n",
        "import numpy as np\n",
        "\n",
        "path = \"/content/drive/MyDrive/case_study.csv\"\n",
        "dfs = pd.read_csv(path, header=None, nrows=50)\n",
        "arrayOfUrls = dfs.to_numpy()\n",
        "productUrls = []\n",
        "theDomain = \"https://www.markastok.com\"\n",
        "for url in arrayOfUrls:\n",
        "  if(url[0][-2] != '/'):\n",
        "    url[0] = theDomain + (url[0][ :-1])\n",
        "    productUrls.append(url[0])\n",
        "\n",
        "\n"
      ],
      "execution_count": null,
      "outputs": []
    },
    {
      "cell_type": "code",
      "metadata": {
        "colab": {
          "base_uri": "https://localhost:8080/"
        },
        "id": "slsavscCDpF8",
        "outputId": "61ce5bf6-2f7a-4641-df77-7f89869bec6c"
      },
      "source": [
        "import requests\n",
        "from bs4 import BeautifulSoup\n",
        "import re\n",
        "import html\n",
        "\n",
        "allFeatures = []\n",
        "for URL in productUrls:\n",
        "  theFeatures = []\n",
        "  theFeatures.insert(0,URL)\n",
        "\n",
        "  page = requests.get(URL)\n",
        "  soup = BeautifulSoup(page.content, 'html.parser')\n",
        "\n",
        "  productCode = soup.find(class_=\"product-feature-content\")\n",
        "  word_list = str(productCode).split()\n",
        "  brokenProductCode = word_list[-2]\n",
        "  a = 0\n",
        "  productCode = \"\"\n",
        "  for char in reversed(brokenProductCode):\n",
        "    if char == \">\":\n",
        "      break\n",
        "    productCode = char + productCode\n",
        "  theFeatures.insert(1,productCode)\n",
        "\n",
        "  productName = soup.find(id='product-name')\n",
        "  productName = html.unescape(str(productName))\n",
        "  result = re.search('</span>\\n(.*)\\n</h1>', str(productName))\n",
        "  productName = result.group(1)\n",
        "  theFeatures.insert(2,productName)\n",
        "\n",
        "  variants = soup.find(class_=\"new-size-variant fl col-12 ease variantList\")\n",
        "  word_list = str(variants).split()\n",
        "  passiveCount = 0\n",
        "  variantCount = 0\n",
        "  for word in word_list:\n",
        "    if word == \"passive\\\"\":\n",
        "      passiveCount = passiveCount + 1\n",
        "    elif word == \"class=\\\"col\":\n",
        "      variantCount = variantCount + 1\n",
        "  availability = ((variantCount-passiveCount)/variantCount)*100\n",
        "  availabilityPercantage = str(availability) + \"%\"\n",
        "  theFeatures.insert(3,availabilityPercantage)\n",
        "\n",
        "  offer = soup.find(class_=\"detay-indirim\")\n",
        "  offer = offer.text.strip()\n",
        "  theFeatures.insert(4,offer)\n",
        "\n",
        "  salePrice = soup.find('span', class_=\"discountPrice\")\n",
        "  salePrice = salePrice.text.strip()\n",
        "  theFeatures.insert(5,salePrice)\n",
        "\n",
        "  productPrice = soup.find('span', class_=\"currencyPrice discountedPrice\")\n",
        "  productPrice = productPrice.text.strip()\n",
        "  theFeatures.insert(6,productPrice)\n",
        "  allFeatures.insert(0,theFeatures)\n",
        "\n",
        "print(allFeatures)"
      ],
      "execution_count": null,
      "outputs": [
        {
          "output_type": "stream",
          "text": [
            "[['https://www.markastok.com/slazenger-moon-kosu-yuruyus-erkek-ayakkabi-sa10re230-lacivert', '3S01MOON.12', 'Moon Koşu & Yürüyüş Erkek Ayakkabı SA10RE230 LACİVERT', '100.0%', '%55', '135,00  TL', '299,99  TL'], ['https://www.markastok.com/buratti-suya-dayanikli-soft-shell-erkek-mont-55618k7023-saks', '3DK155618K7023.112', 'Suya Dayanıklı Soft Shell Erkek Mont 55618K7023 SAKS', '20.0%', '%66', '107,99  TL', '319,99  TL'], ['https://www.markastok.com/buratti-suya-dayanikli-soft-shell-erkek-mont-55618k7282-lacivert', '3DK155618K7282.12', 'Suya Dayanıklı Soft Shell Erkek Mont 55618K7282 LACİVERT', '20.0%', '%66', '107,99  TL', '319,99  TL'], ['https://www.markastok.com/buratti-slim-fit-fermuarli-dik-yaka-erkek-mont-556b79000-siyah', '3DK1556B79000.07', 'Büyük Beden Seçeneğiyle Ekstra Slim Fit Fermuarlı Dik Yaka Erkek Mont 556B79000 SİYAH', '50.0%', '%65', '107,99  TL', '309,99  TL'], ['https://www.markastok.com/buratti-slim-fit-suya-ve-ruzgara-dayanikli-kapusonlu-softshell-erkek-mont-5831900-siyah', '3DK15831900.07', 'Slim Fit Suya ve Rüzgara Dayanıklı Kapüşonlu Softshell Erkek Mont 5831900 SİYAH', '60.0%', '%69', '125,99  TL', '399,99  TL'], ['https://www.markastok.com/buratti-suya-dayanikli-soft-shell-erkek-mont-55618k7282-bordo', '3DK155618K7282.61', 'Suya Dayanıklı Soft Shell Erkek Mont 55618K7282 BORDO', '20.0%', '%66', '107,99  TL', '319,99  TL']]\n"
          ],
          "name": "stdout"
        }
      ]
    },
    {
      "cell_type": "code",
      "metadata": {
        "colab": {
          "base_uri": "https://localhost:8080/"
        },
        "id": "XBs-L-XU-d_s",
        "outputId": "4287aeb8-1519-47be-d3e4-8f6f93e37b16"
      },
      "source": [
        "from google.colab import auth\n",
        "auth.authenticate_user()\n",
        "\n",
        "import gspread\n",
        "from oauth2client.client import GoogleCredentials\n",
        "\n",
        "gc = gspread.authorize(GoogleCredentials.get_application_default())\n",
        "\n",
        "sh = gc.create('Markastok | Ürün Raporu')\n",
        "\n",
        "worksheet = gc.open('Markastok | Ürün Raporu').sheet1\n",
        "\n",
        "range = 'A1:G' + str(len(productUrls)+1)\n",
        "cell_list = worksheet.range(range)\n",
        "\n",
        "cell_list[0].value = 'URL'\n",
        "cell_list[1].value = 'SKU'\n",
        "cell_list[2].value = 'Product Name'\n",
        "cell_list[3].value = 'Availability'\n",
        "cell_list[4].value = 'Offer'\n",
        "cell_list[5].value = 'Sale Price'\n",
        "cell_list[6].value = 'Product Price'\n",
        "\n",
        "i = 7\n",
        "for features in allFeatures:\n",
        "  for feature in features:\n",
        "    cell_list[i].value = feature\n",
        "    i = i + 1\n",
        "\n",
        "worksheet.update_cells(cell_list)"
      ],
      "execution_count": 141,
      "outputs": [
        {
          "output_type": "execute_result",
          "data": {
            "text/plain": [
              "{'spreadsheetId': '1cZK48TCn1JxlIw73ym3j_cAjJnGDROPtdqDjFl3L89Y',\n",
              " 'updatedCells': 49,\n",
              " 'updatedColumns': 7,\n",
              " 'updatedRange': 'Sheet1!A1:G7',\n",
              " 'updatedRows': 7}"
            ]
          },
          "metadata": {
            "tags": []
          },
          "execution_count": 141
        }
      ]
    }
  ]
}